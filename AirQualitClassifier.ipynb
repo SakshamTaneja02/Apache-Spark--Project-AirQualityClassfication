{
 "cells": [
  {
   "cell_type": "code",
   "execution_count": 1,
   "id": "a215cc88",
   "metadata": {},
   "outputs": [],
   "source": [
    "import findspark\n",
    "findspark.init()\n",
    "import pyspark"
   ]
  },
  {
   "cell_type": "code",
   "execution_count": 2,
   "id": "6806c7a1",
   "metadata": {},
   "outputs": [],
   "source": [
    "from pyspark.ml.feature import VectorAssembler\n",
    "from pyspark.sql import SparkSession\n",
    "from pyspark.sql import SQLContext"
   ]
  },
  {
   "cell_type": "code",
   "execution_count": 3,
   "id": "34c5d667",
   "metadata": {},
   "outputs": [
    {
     "name": "stdout",
     "output_type": "stream",
     "text": [
      "23/04/11 10:42:29 WARN Utils: Your hostname, Poojas-MacBook-Air.local resolves to a loopback address: 127.0.0.1; using 10.100.148.65 instead (on interface en0)\n",
      "23/04/11 10:42:29 WARN Utils: Set SPARK_LOCAL_IP if you need to bind to another address\n"
     ]
    },
    {
     "name": "stderr",
     "output_type": "stream",
     "text": [
      "Setting default log level to \"WARN\".\n",
      "To adjust logging level use sc.setLogLevel(newLevel). For SparkR, use setLogLevel(newLevel).\n"
     ]
    },
    {
     "name": "stdout",
     "output_type": "stream",
     "text": [
      "23/04/11 10:42:29 WARN NativeCodeLoader: Unable to load native-hadoop library for your platform... using builtin-java classes where applicable\n",
      "23/04/11 10:42:29 WARN Utils: Service 'SparkUI' could not bind on port 4040. Attempting port 4041.\n",
      "23/04/11 10:42:42 WARN GarbageCollectionMetrics: To enable non-built-in garbage collector(s) List(G1 Concurrent GC), users should configure it(them) to spark.eventLog.gcMetrics.youngGenerationGarbageCollectors or spark.eventLog.gcMetrics.oldGenerationGarbageCollectors\n"
     ]
    }
   ],
   "source": [
    "appName = \"Air Quality Classification in London with PySpark\"\n",
    "spark = SparkSession \\\n",
    ".builder \\\n",
    ".appName(appName) \\\n",
    ".config(\"spark.some.config.option\", \"some-value\") \\\n",
    ".getOrCreate()\n",
    "sc = spark.sparkContext"
   ]
  },
  {
   "cell_type": "code",
   "execution_count": 4,
   "id": "0aba2c75",
   "metadata": {},
   "outputs": [
    {
     "name": "stdout",
     "output_type": "stream",
     "text": [
      "+----------+-------------------+---+---+----+----+-------+\n",
      "|      date|               time|NO2| O3|PM10|PM25|quality|\n",
      "+----------+-------------------+---+---+----+----+-------+\n",
      "|01/01/2008|2023-04-11 00:00:00| 96| 66|  52|  37|      0|\n",
      "|01/01/2008|2023-04-11 01:00:00| 92| 66|  50|  36|      0|\n",
      "|01/01/2008|2023-04-11 02:00:00| 91| 65|  50|  36|      0|\n",
      "|01/01/2008|2023-04-11 03:00:00| 91| 64|  50|  36|      0|\n",
      "|01/01/2008|2023-04-11 04:00:00| 91| 61|  50|  36|      0|\n",
      "+----------+-------------------+---+---+----+----+-------+\n",
      "only showing top 5 rows\n",
      "\n"
     ]
    }
   ],
   "source": [
    "# load data from file to DataFrame with schema infer\n",
    "df = spark.read.options(delimiter=';', inferSchema=True, header=True) \\\n",
    "            .csv(\"/Users/sakshamtaneja/Desktop/Big-Data-Apache-Spark-Projects-master/FINAL EXAM/dataset.csv\");\n",
    "df.show(5)"
   ]
  },
  {
   "cell_type": "code",
   "execution_count": 5,
   "id": "8834418f",
   "metadata": {},
   "outputs": [
    {
     "name": "stdout",
     "output_type": "stream",
     "text": [
      "root\n",
      " |-- date: string (nullable = true)\n",
      " |-- time: timestamp (nullable = true)\n",
      " |-- NO2: integer (nullable = true)\n",
      " |-- O3: integer (nullable = true)\n",
      " |-- PM10: integer (nullable = true)\n",
      " |-- PM25: integer (nullable = true)\n",
      " |-- quality: integer (nullable = true)\n",
      "\n"
     ]
    }
   ],
   "source": [
    "# view general information of the dataset\n",
    "df.printSchema()"
   ]
  },
  {
   "cell_type": "code",
   "execution_count": 6,
   "id": "dfe121a7",
   "metadata": {},
   "outputs": [
    {
     "name": "stdout",
     "output_type": "stream",
     "text": [
      "+-------+----------+-----------------+------------------+------------------+------------------+-------------------+\n",
      "|summary|      date|              NO2|                O3|              PM10|              PM25|            quality|\n",
      "+-------+----------+-----------------+------------------+------------------+------------------+-------------------+\n",
      "|  count|      3168|             3168|              3168|              3168|              3168|               3168|\n",
      "|   mean|      null|55.75536616161616|27.190656565656564|25.119318181818183|15.717803030303031|0.47285353535353536|\n",
      "| stddev|      null|13.46835991893537|10.554635449455423| 6.122290685326892| 5.202793568098651|  0.499341341995463|\n",
      "|    min|01/01/2008|               21|                 6|                12|                 6|                  0|\n",
      "|    max|01/12/2018|               96|                66|                52|                37|                  1|\n",
      "+-------+----------+-----------------+------------------+------------------+------------------+-------------------+\n",
      "\n"
     ]
    }
   ],
   "source": [
    "# view statistical information from the dataset\n",
    "df.describe().show()"
   ]
  },
  {
   "cell_type": "code",
   "execution_count": 7,
   "id": "ba7f91a3",
   "metadata": {},
   "outputs": [],
   "source": [
    "from pyspark.sql.functions import udf, rand\n",
    "from pyspark.sql.types import StringType, DoubleType"
   ]
  },
  {
   "cell_type": "code",
   "execution_count": 8,
   "id": "d99cf2c7",
   "metadata": {},
   "outputs": [
    {
     "name": "stderr",
     "output_type": "stream",
     "text": [
      "\r",
      "[Stage 6:>                                                          (0 + 1) / 1]\r"
     ]
    },
    {
     "name": "stdout",
     "output_type": "stream",
     "text": [
      "+----------+-------------------+----+----+----+----+-------+\n",
      "|      date|               time| NO2|  O3|PM10|PM25|quality|\n",
      "+----------+-------------------+----+----+----+----+-------+\n",
      "|01/01/2008|2023-04-11 00:00:00|96.0|66.0|52.0|37.0|    bad|\n",
      "|01/01/2008|2023-04-11 01:00:00|92.0|66.0|50.0|36.0|    bad|\n",
      "|01/01/2008|2023-04-11 02:00:00|91.0|65.0|50.0|36.0|    bad|\n",
      "|01/01/2008|2023-04-11 03:00:00|91.0|64.0|50.0|36.0|    bad|\n",
      "|01/01/2008|2023-04-11 04:00:00|91.0|61.0|50.0|36.0|    bad|\n",
      "+----------+-------------------+----+----+----+----+-------+\n",
      "only showing top 5 rows\n",
      "\n"
     ]
    },
    {
     "name": "stderr",
     "output_type": "stream",
     "text": [
      "\r",
      "                                                                                \r"
     ]
    }
   ],
   "source": [
    "# Converts an integer to a double and converts the 'quality' column to categorical\n",
    "def condition(r):\n",
    "    if (r == 0):\n",
    "        label = \"bad\"\n",
    "    else:\n",
    "        label = \"good\"\n",
    "    return label\n",
    "\n",
    "df = df.withColumn(\"NO2\", df[\"NO2\"].cast('double'))\n",
    "df = df.withColumn(\"O3\", df[\"O3\"].cast('double'))\n",
    "df = df.withColumn(\"PM10\", df[\"PM10\"].cast('double'))\n",
    "df = df.withColumn(\"PM25\", df[\"PM25\"].cast('double'))\n",
    "\n",
    "string_udf = udf(condition, StringType())\n",
    "df = df.withColumn('quality', string_udf('quality'))\n",
    "\n",
    "df.show(5)"
   ]
  },
  {
   "cell_type": "code",
   "execution_count": 9,
   "id": "81ab6080",
   "metadata": {},
   "outputs": [
    {
     "name": "stdout",
     "output_type": "stream",
     "text": [
      "root\n",
      " |-- date: string (nullable = true)\n",
      " |-- time: timestamp (nullable = true)\n",
      " |-- NO2: double (nullable = true)\n",
      " |-- O3: double (nullable = true)\n",
      " |-- PM10: double (nullable = true)\n",
      " |-- PM25: double (nullable = true)\n",
      " |-- quality: string (nullable = true)\n",
      "\n"
     ]
    }
   ],
   "source": [
    "# view general information of the dataset\n",
    "df.printSchema()"
   ]
  },
  {
   "cell_type": "code",
   "execution_count": 11,
   "id": "14b69ed8",
   "metadata": {},
   "outputs": [],
   "source": [
    "# Convert a column with data type double to vector\n",
    "def get_dummy(df,indexCol,categoricalCols,continuousCols,labelCol):\n",
    "\n",
    "    from pyspark.ml import Pipeline\n",
    "    from pyspark.ml.feature import StringIndexer, OneHotEncoder, VectorAssembler\n",
    "    from pyspark.sql.functions import col\n",
    "\n",
    "    indexers = [ StringIndexer(inputCol=c, outputCol=\"{0}_indexed\".format(c))\n",
    "                 for c in categoricalCols ]\n",
    "\n",
    "    # default setting: dropLast=True\n",
    "    encoders = [ OneHotEncoder(inputCol=indexer.getOutputCol(),\n",
    "                 outputCol=\"{0}_encoded\".format(indexer.getOutputCol()))\n",
    "                 for indexer in indexers ]\n",
    "\n",
    "    assembler = VectorAssembler(inputCols=[encoder.getOutputCol() for encoder in encoders]\n",
    "                                + continuousCols, outputCol=\"features\")\n",
    "\n",
    "    pipeline = Pipeline(stages=indexers + encoders + [assembler])\n",
    "\n",
    "    model=pipeline.fit(df)\n",
    "    data = model.transform(df)\n",
    "\n",
    "    data = data.withColumn('label',col(labelCol))\n",
    "\n",
    "    return data.select(indexCol,'features','label')"
   ]
  },
  {
   "cell_type": "code",
   "execution_count": 12,
   "id": "a1921494",
   "metadata": {},
   "outputs": [],
   "source": [
    "# Transforming the conversion results into a dataframe\n",
    "from pyspark.ml.linalg import Vectors\n",
    "from pyspark.ml import Pipeline\n",
    "from pyspark.ml.feature import IndexToString,StringIndexer, VectorIndexer\n",
    "from pyspark.ml.tuning import CrossValidator, ParamGridBuilder\n",
    "from pyspark.ml.evaluation import MulticlassClassificationEvaluator\n",
    "\n",
    "def transData(data):\n",
    "    return data.rdd.map(lambda r: [Vectors.dense(r[2:-1]),r[-1]]).toDF(['features','label'])"
   ]
  },
  {
   "cell_type": "code",
   "execution_count": 13,
   "id": "22d99d8b",
   "metadata": {},
   "outputs": [
    {
     "name": "stderr",
     "output_type": "stream",
     "text": [
      "                                                                                \r"
     ]
    },
    {
     "name": "stdout",
     "output_type": "stream",
     "text": [
      "+--------------------+-----+\n",
      "|            features|label|\n",
      "+--------------------+-----+\n",
      "|[96.0,66.0,52.0,3...|  bad|\n",
      "|[92.0,66.0,50.0,3...|  bad|\n",
      "|[91.0,65.0,50.0,3...|  bad|\n",
      "|[91.0,64.0,50.0,3...|  bad|\n",
      "|[91.0,61.0,50.0,3...|  bad|\n",
      "+--------------------+-----+\n",
      "only showing top 5 rows\n",
      "\n"
     ]
    },
    {
     "name": "stderr",
     "output_type": "stream",
     "text": [
      "\r",
      "[Stage 8:>                                                          (0 + 1) / 1]\r",
      "\r",
      "                                                                                \r"
     ]
    }
   ],
   "source": [
    "transformed = transData(df)\n",
    "transformed.show(5)"
   ]
  },
  {
   "cell_type": "code",
   "execution_count": 14,
   "id": "7dd06d10",
   "metadata": {},
   "outputs": [
    {
     "name": "stderr",
     "output_type": "stream",
     "text": [
      "                                                                                \r"
     ]
    },
    {
     "name": "stdout",
     "output_type": "stream",
     "text": [
      "+--------------------+-----+------------+\n",
      "|            features|label|indexedLabel|\n",
      "+--------------------+-----+------------+\n",
      "|[96.0,66.0,52.0,3...|  bad|         0.0|\n",
      "|[92.0,66.0,50.0,3...|  bad|         0.0|\n",
      "|[91.0,65.0,50.0,3...|  bad|         0.0|\n",
      "|[91.0,64.0,50.0,3...|  bad|         0.0|\n",
      "|[91.0,61.0,50.0,3...|  bad|         0.0|\n",
      "+--------------------+-----+------------+\n",
      "only showing top 5 rows\n",
      "\n"
     ]
    }
   ],
   "source": [
    "# assigns an index value to the features and label column\n",
    "labelIndexer = StringIndexer(inputCol='labe',\n",
    "                             outputCol='indexedLabel').fit(transformed)\n",
    "labelIndexer.transform(transformed).show(5)"
   ]
  },
  {
   "cell_type": "code",
   "execution_count": 15,
   "id": "eb28fda8",
   "metadata": {},
   "outputs": [
    {
     "name": "stderr",
     "output_type": "stream",
     "text": [
      "\r",
      "[Stage 14:>                                                         (0 + 1) / 1]\r",
      "\r",
      "                                                                                \r"
     ]
    },
    {
     "name": "stdout",
     "output_type": "stream",
     "text": [
      "+--------------------+-----+--------------------+\n",
      "|            features|label|     indexedFeatures|\n",
      "+--------------------+-----+--------------------+\n",
      "|[96.0,66.0,52.0,3...|  bad|[96.0,66.0,52.0,3...|\n",
      "|[92.0,66.0,50.0,3...|  bad|[92.0,66.0,50.0,3...|\n",
      "|[91.0,65.0,50.0,3...|  bad|[91.0,65.0,50.0,3...|\n",
      "|[91.0,64.0,50.0,3...|  bad|[91.0,64.0,50.0,3...|\n",
      "|[91.0,61.0,50.0,3...|  bad|[91.0,61.0,50.0,3...|\n",
      "+--------------------+-----+--------------------+\n",
      "only showing top 5 rows\n",
      "\n"
     ]
    }
   ],
   "source": [
    "# Automatically identify categorical features, and index them.\n",
    "# Set maxCategories so features with > 4 distinct values are treated as continuous.\n",
    "featureIndexer =VectorIndexer(inputCol=\"features\", \\\n",
    "                              outputCol=\"indexedFeatures\", \\\n",
    "                              maxCategories=4).fit(transformed)\n",
    "featureIndexer.transform(transformed).show(5)"
   ]
  },
  {
   "cell_type": "code",
   "execution_count": 16,
   "id": "d630caff",
   "metadata": {},
   "outputs": [
    {
     "name": "stderr",
     "output_type": "stream",
     "text": [
      "                                                                                \r"
     ]
    },
    {
     "name": "stdout",
     "output_type": "stream",
     "text": [
      "+-------------------+-----+\n",
      "|           features|label|\n",
      "+-------------------+-----+\n",
      "|[22.0,7.0,12.0,6.0]| good|\n",
      "|[22.0,7.0,12.0,7.0]| good|\n",
      "|[23.0,7.0,12.0,7.0]| good|\n",
      "|[23.0,8.0,13.0,7.0]| good|\n",
      "|[24.0,8.0,13.0,7.0]| good|\n",
      "+-------------------+-----+\n",
      "only showing top 5 rows\n",
      "\n",
      "+-------------------+-----+\n",
      "|           features|label|\n",
      "+-------------------+-----+\n",
      "|[21.0,6.0,12.0,6.0]| good|\n",
      "|[23.0,8.0,13.0,7.0]| good|\n",
      "|[25.0,8.0,13.0,7.0]| good|\n",
      "|[27.0,9.0,14.0,8.0]| good|\n",
      "|[27.0,9.0,14.0,8.0]| good|\n",
      "+-------------------+-----+\n",
      "only showing top 5 rows\n",
      "\n"
     ]
    }
   ],
   "source": [
    "# Dividing into training data and testing data\n",
    "(trainingData, testData) = transformed.randomSplit([0.8, 0.2])\n",
    "\n",
    "trainingData.show(5)\n",
    "testData.show(5)"
   ]
  },
  {
   "cell_type": "code",
   "execution_count": 17,
   "id": "1adc2795",
   "metadata": {},
   "outputs": [],
   "source": [
    "from pyspark.ml.classification import NaiveBayes\n",
    "nb = NaiveBayes(featuresCol='indexedFeatures', labelCol='indexedLabel')\n",
    "# Convert indexed labels back to original labels.\n",
    "labelConverter = IndexToString(inputCol=\"prediction\", outputCol=\"predictedLabel\",\n",
    "                               labels=labelIndexer.labels)\n",
    "# Chain indexers and tree in a Pipeline\n",
    "pipeline = Pipeline(stages=[labelIndexer, featureIndexer, nb,labelConverter])\n",
    "# Train model.  This also runs the indexers.\n",
    "model = pipeline.fit(trainingData)"
   ]
  },
  {
   "cell_type": "code",
   "execution_count": 18,
   "id": "0b1d5763",
   "metadata": {},
   "outputs": [
    {
     "name": "stdout",
     "output_type": "stream",
     "text": [
      "23/04/11 10:56:16 WARN InstanceBuilder$NativeBLAS: Failed to load implementation from:dev.ludovic.netlib.blas.JNIBLAS\n",
      "23/04/11 10:56:16 WARN InstanceBuilder$NativeBLAS: Failed to load implementation from:dev.ludovic.netlib.blas.ForeignLinkerBLAS\n",
      "23/04/11 10:56:16 WARN InstanceBuilder$JavaBLAS: Failed to load implementation from:dev.ludovic.netlib.blas.VectorBLAS\n",
      "+-------------------+-----+--------------+\n",
      "|           features|label|predictedLabel|\n",
      "+-------------------+-----+--------------+\n",
      "|[21.0,6.0,12.0,6.0]| good|          good|\n",
      "|[23.0,8.0,13.0,7.0]| good|          good|\n",
      "|[25.0,8.0,13.0,7.0]| good|          good|\n",
      "|[27.0,9.0,14.0,8.0]| good|          good|\n",
      "|[27.0,9.0,14.0,8.0]| good|          good|\n",
      "+-------------------+-----+--------------+\n",
      "only showing top 5 rows\n",
      "\n"
     ]
    }
   ],
   "source": [
    "# Make predictions.\n",
    "predictions = model.transform(testData)\n",
    "# Select example rows to display.\n",
    "predictions.select(\"features\",\"label\",\"predictedLabel\").show(5)"
   ]
  },
  {
   "cell_type": "code",
   "execution_count": 19,
   "id": "094bb139",
   "metadata": {},
   "outputs": [
    {
     "name": "stdout",
     "output_type": "stream",
     "text": [
      "Test Error = 0.00771605\n"
     ]
    }
   ],
   "source": [
    "from pyspark.ml.evaluation import MulticlassClassificationEvaluator\n",
    "\n",
    "# Select (prediction, true label) and compute test error\n",
    "evaluator = MulticlassClassificationEvaluator(\n",
    "    labelCol=\"indexedLabel\", predictionCol=\"prediction\", metricName=\"accuracy\")\n",
    "accuracy = evaluator.evaluate(predictions)\n",
    "print(\"Test Error = %g\" % (1.0 - accuracy))"
   ]
  },
  {
   "cell_type": "code",
   "execution_count": 21,
   "id": "edcee523",
   "metadata": {},
   "outputs": [],
   "source": [
    "import matplotlib.pyplot as plt\n",
    "import numpy as np\n",
    "import itertools\n",
    "\n",
    "def plot_confusion_matrix(cm, classes,\n",
    "                          normalize=False,\n",
    "                          title='Confusion matrix',\n",
    "                          cmap=plt.cm.Blues):\n",
    "    \"\"\"\n",
    "    This function prints and plots the confusion matrix.\n",
    "    Normalization can be applied by setting `normalize=True`.\n",
    "    \"\"\"\n",
    "    if normalize:\n",
    "        cm = cm.astype('float') / cm.sum(axis=1)[:, np.newaxis]\n",
    "        print(\"Normalized confusion matrix\")\n",
    "    else:\n",
    "        print('Confusion matrix, without normalization')\n",
    "\n",
    "    print(cm)\n",
    "\n",
    "    plt.imshow(cm, interpolation='nearest', cmap=cmap)\n",
    "    plt.title(title)\n",
    "    plt.colorbar()\n",
    "    tick_marks = np.arange(len(classes))\n",
    "    plt.xticks(tick_marks, classes, rotation=45)\n",
    "    plt.yticks(tick_marks, classes)\n",
    "\n",
    "    fmt = '.2f' if normalize else 'd'\n",
    "    thresh = cm.max() / 2.\n",
    "    for i, j in itertools.product(range(cm.shape[0]), range(cm.shape[1])):\n",
    "        plt.text(j, i, format(cm[i, j], fmt),\n",
    "                 horizontalalignment=\"center\",\n",
    "                 color=\"white\" if cm[i, j] > thresh else \"black\")\n",
    "\n",
    "    plt.tight_layout()\n",
    "    plt.ylabel('True label')\n",
    "    plt.xlabel('Predicted label')"
   ]
  },
  {
   "cell_type": "code",
   "execution_count": 22,
   "id": "cd7da47b",
   "metadata": {},
   "outputs": [
    {
     "data": {
      "text/plain": [
       "['bad', 'good']"
      ]
     },
     "execution_count": 22,
     "metadata": {},
     "output_type": "execute_result"
    }
   ],
   "source": [
    "class_temp = predictions.select(\"label\").groupBy(\"label\")\\\n",
    "                        .count().sort('count', ascending=False).toPandas()\n",
    "class_temp = class_temp[\"label\"].values.tolist()\n",
    "class_temp"
   ]
  },
  {
   "cell_type": "code",
   "execution_count": 23,
   "id": "83559cc3",
   "metadata": {},
   "outputs": [
    {
     "name": "stdout",
     "output_type": "stream",
     "text": [
      "+-------------------+-----+------------+-------------------+--------------------+--------------------+----------+--------------+\n",
      "|           features|label|indexedLabel|    indexedFeatures|       rawPrediction|         probability|prediction|predictedLabel|\n",
      "+-------------------+-----+------------+-------------------+--------------------+--------------------+----------+--------------+\n",
      "|[21.0,6.0,12.0,6.0]| good|         1.0|[21.0,6.0,12.0,6.0]|[-58.414710088349...|[0.29224276585584...|       1.0|          good|\n",
      "|[23.0,8.0,13.0,7.0]| good|         1.0|[23.0,8.0,13.0,7.0]|[-66.632745860501...|[0.33831052816493...|       1.0|          good|\n",
      "|[25.0,8.0,13.0,7.0]| good|         1.0|[25.0,8.0,13.0,7.0]|[-68.274866300425...|[0.31048308414660...|       1.0|          good|\n",
      "|[27.0,9.0,14.0,8.0]| good|         1.0|[27.0,9.0,14.0,8.0]|[-75.042943411772...|[0.31493258151228...|       1.0|          good|\n",
      "|[27.0,9.0,14.0,8.0]| good|         1.0|[27.0,9.0,14.0,8.0]|[-75.042943411772...|[0.31493258151228...|       1.0|          good|\n",
      "+-------------------+-----+------------+-------------------+--------------------+--------------------+----------+--------------+\n",
      "only showing top 5 rows\n",
      "\n"
     ]
    }
   ],
   "source": [
    "predictions.show(5)"
   ]
  },
  {
   "cell_type": "code",
   "execution_count": 24,
   "id": "4f34b4cc",
   "metadata": {},
   "outputs": [
    {
     "data": {
      "text/plain": [
       "array([[364,   5],\n",
       "       [  0, 279]])"
      ]
     },
     "execution_count": 24,
     "metadata": {},
     "output_type": "execute_result"
    }
   ],
   "source": [
    "from sklearn.metrics import confusion_matrix\n",
    "y_true = predictions.select(\"label\")\n",
    "y_true = y_true.toPandas()\n",
    "\n",
    "y_pred = predictions.select(\"predictedLabel\")\n",
    "y_pred = y_pred.toPandas()\n",
    "\n",
    "cnf_matrix = confusion_matrix(y_true, y_pred,labels=class_temp)\n",
    "cnf_matrix"
   ]
  },
  {
   "cell_type": "code",
   "execution_count": 25,
   "id": "9f389f9f",
   "metadata": {},
   "outputs": [
    {
     "name": "stdout",
     "output_type": "stream",
     "text": [
      "Confusion matrix, without normalization\n",
      "[[364   5]\n",
      " [  0 279]]\n"
     ]
    },
    {
     "data": {
      "image/png": "[encoded data removed]",
      "text/plain": [
       "<Figure size 640x480 with 2 Axes>"
      ]
     },
     "metadata": {},
     "output_type": "display_data"
    }
   ],
   "source": [
    " "
   ]
  },
  {
   "cell_type": "code",
   "execution_count": null,
   "id": "b5ca03a4",
   "metadata": {},
   "outputs": [],
   "source": []
  }
 ],
 "metadata": {
  "kernelspec": {
   "display_name": "Python 3 (ipykernel)",
   "language": "python",
   "name": "python3"
  },
  "language_info": {
   "codemirror_mode": {
    "name": "ipython",
    "version": 3
   },
   "file_extension": ".py",
   "mimetype": "text/x-python",
   "name": "python",
   "nbconvert_exporter": "python",
   "pygments_lexer": "ipython3",
   "version": "3.9.13"
  }
 },
 "nbformat": 4,
 "nbformat_minor": 5
}
